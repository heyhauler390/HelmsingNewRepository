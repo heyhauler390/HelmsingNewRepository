{
 "cells": [
  {
   "cell_type": "markdown",
   "id": "0904b824-08e8-4b22-bb31-9f31514ddc48",
   "metadata": {
    "tags": []
   },
   "source": [
    "# Data Science Tools and Ecosystem"
   ]
  },
  {
   "cell_type": "markdown",
   "id": "51590ffa-07f5-4359-ab80-a60c881a17ed",
   "metadata": {},
   "source": [
    "In this notebook, Data Science Tools and Ecosystem are summarized."
   ]
  },
  {
   "cell_type": "markdown",
   "id": "590f3961-0556-484b-b700-4356f97b9e75",
   "metadata": {},
   "source": [
    "***Objectives:***\n",
    "- List popular languages that Data Scientists Use\n",
    "- List commonly used libraries by data science\n",
    "- Show an example of arithmetic expressions in Python"
   ]
  },
  {
   "cell_type": "markdown",
   "id": "f02f4be4-0db2-4c64-9ace-418aff1f4825",
   "metadata": {},
   "source": [
    "Some of the popular languages that Data Scientists use are:"
   ]
  },
  {
   "cell_type": "markdown",
   "id": "bccb1938-608e-4992-900d-417e94ae2418",
   "metadata": {},
   "source": [
    "1. Python\n",
    "2. R\n",
    "3. SQL"
   ]
  },
  {
   "cell_type": "markdown",
   "id": "75e7c7ee-98c7-4283-8c96-8add2996f517",
   "metadata": {},
   "source": [
    "Some of the commonly used libraries used by Data Scientists include:"
   ]
  },
  {
   "cell_type": "markdown",
   "id": "af4fdf89-ed28-4361-9391-e631f905c1b4",
   "metadata": {},
   "source": [
    "1. Pandas\n",
    "2. NumPy\n",
    "3. MatplotLib"
   ]
  },
  {
   "cell_type": "markdown",
   "id": "b926cc0e-c44c-4055-a81c-157451f5f368",
   "metadata": {},
   "source": [
    "| Data Science Tools|\n",
    "| -----------------|\n",
    "|Jupyter|\n",
    "|RStudio|\n",
    "|Spyder|"
   ]
  },
  {
   "cell_type": "markdown",
   "id": "d0aa1db1-9e39-49ab-82c1-d22d563b2b27",
   "metadata": {},
   "source": [
    "### Below are a few examples of evaluating arithmetic expressions in Python."
   ]
  },
  {
   "cell_type": "code",
   "execution_count": 1,
   "id": "e2e75d35-cf37-4cc6-a648-58b26f64c644",
   "metadata": {
    "tags": []
   },
   "outputs": [
    {
     "data": {
      "text/plain": [
       "17"
      ]
     },
     "execution_count": 1,
     "metadata": {},
     "output_type": "execute_result"
    }
   ],
   "source": [
    "# This a simple arithmetic expression to mutiply then add integers\n",
    "(3*4)+5"
   ]
  },
  {
   "cell_type": "code",
   "execution_count": 2,
   "id": "3d17e0b7-a798-4066-837b-c69c5e5343fb",
   "metadata": {
    "tags": []
   },
   "outputs": [
    {
     "data": {
      "text/plain": [
       "3.3333333333333335"
      ]
     },
     "execution_count": 2,
     "metadata": {},
     "output_type": "execute_result"
    }
   ],
   "source": [
    "#This will convert 200 minutes to hours by diving by 60\n",
    "200/60"
   ]
  },
  {
   "cell_type": "markdown",
   "id": "4a5d028b-5834-4b75-b4e7-66d562f0bea3",
   "metadata": {},
   "source": [
    "## Author\n",
    "William Helmsing"
   ]
  },
  {
   "cell_type": "code",
   "execution_count": null,
   "id": "0d737747-7eb5-4cc9-952e-6ac027bd9547",
   "metadata": {},
   "outputs": [],
   "source": []
  }
 ],
 "metadata": {
  "kernelspec": {
   "display_name": "Python",
   "language": "python",
   "name": "conda-env-python-py"
  },
  "language_info": {
   "codemirror_mode": {
    "name": "ipython",
    "version": 3
   },
   "file_extension": ".py",
   "mimetype": "text/x-python",
   "name": "python",
   "nbconvert_exporter": "python",
   "pygments_lexer": "ipython3",
   "version": "3.7.12"
  }
 },
 "nbformat": 4,
 "nbformat_minor": 5
}
